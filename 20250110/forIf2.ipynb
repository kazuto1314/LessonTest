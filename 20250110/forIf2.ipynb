{
  "nbformat": 4,
  "nbformat_minor": 0,
  "metadata": {
    "colab": {
      "provenance": []
    },
    "kernelspec": {
      "name": "python3",
      "display_name": "Python 3"
    },
    "language_info": {
      "name": "python"
    }
  },
  "cells": [
    {
      "cell_type": "code",
      "execution_count": 3,
      "metadata": {
        "colab": {
          "base_uri": "https://localhost:8080/"
        },
        "id": "Rvo6gMqACe7k",
        "outputId": "5c91d811-0d39-4331-adaa-e82b4211977b"
      },
      "outputs": [
        {
          "output_type": "stream",
          "name": "stdout",
          "text": [
            "建国記念の日\n",
            "天皇誕生日\n",
            "憲法記念日\n",
            "みどりの日\n",
            "こどもの日\n",
            "スポーツの日\n",
            "勤労感謝の日\n"
          ]
        }
      ],
      "source": [
        "holidays = [\"元日\", \"成人の日\", \"建国記念の日\", \"天皇誕生日\", \"春分の日\", \"昭和の日\", \"憲法記念日\", \"みどりの日\", \"こどもの日\", \"海の日\", \"山の日\", \"敬老の日\", \"秋分の日\", \"スポーツの日\", \"文化の日\", \"勤労感謝の日\"]\n",
        "\n",
        "for holiday in holidays:\n",
        "  if len(holiday) >= 5:\n",
        "    print(holiday)"
      ]
    }
  ]
}